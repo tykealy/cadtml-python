{
 "cells": [
  {
   "cell_type": "markdown",
   "id": "af119ebf",
   "metadata": {},
   "source": [
    "# Lab 1a - Python Programming "
   ]
  },
  {
   "cell_type": "markdown",
   "id": "ad25368e",
   "metadata": {},
   "source": [
    "To do: Check your Python version"
   ]
  },
  {
   "cell_type": "code",
   "execution_count": 19,
   "id": "5efa4af2",
   "metadata": {},
   "outputs": [],
   "source": [
    "#write your code here"
   ]
  },
  {
   "cell_type": "markdown",
   "id": "a1a16f7b",
   "metadata": {},
   "source": [
    "1.\tWrite a program that accepts an integer n and computes the value of n+nn+nnn. Use statement input to read value from the console.\n",
    "    - E.g.\n",
    "        - Enter an integer: 5\n",
    "        - Sum of 5 + 55 + 555: 615"
   ]
  },
  {
   "cell_type": "code",
   "execution_count": 20,
   "id": "f99df52a",
   "metadata": {},
   "outputs": [
    {
     "name": "stdout",
     "output_type": "stream",
     "text": [
      "615\n"
     ]
    }
   ],
   "source": [
    "#write your code here\n",
    "def func(n):\n",
    "    result = 0\n",
    "    result = n + (n*11)+(n*111)\n",
    "    return result\n",
    "\n",
    "print(func(5))"
   ]
  },
  {
   "cell_type": "markdown",
   "id": "d85f4f33",
   "metadata": {},
   "source": [
    "2.\tWrite a program to convert time (hh:mn:ss) to seconds.\n",
    "    - E.g.\n",
    "        - Enter hour: 5\n",
    "        - Enter minute: 45\n",
    "        - Enter second: 50\n",
    "        - It is 20750 seconds\n"
   ]
  },
  {
   "cell_type": "code",
   "execution_count": 22,
   "id": "104d830f",
   "metadata": {},
   "outputs": [
    {
     "name": "stdout",
     "output_type": "stream",
     "text": [
      "It is 3661 seconds.\n"
     ]
    }
   ],
   "source": [
    "#write your code here\n",
    "hours = int(input(\"Enter the hours: \"))\n",
    "minutes = int(input(\"Enter the minutes: \"))\n",
    "seconds = int(input(\"Enter the seconds: \"))\n",
    "print(\"It is\", hours*3600+minutes*60+seconds, \"seconds.\")"
   ]
  },
  {
   "cell_type": "markdown",
   "id": "0087f638",
   "metadata": {},
   "source": [
    "3.\tWrite a program which accepts two decimal numbers and compares them.\n",
    "    - E.g.\n",
    "        - Enter first number: 5\n",
    "        - Enter second number: 45\n",
    "        - 45 is greater than 5"
   ]
  },
  {
   "cell_type": "code",
   "execution_count": 23,
   "id": "cbc0dfd3",
   "metadata": {},
   "outputs": [
    {
     "name": "stdout",
     "output_type": "stream",
     "text": [
      "5  is greater than  4\n"
     ]
    }
   ],
   "source": [
    "first = int(input(\"Enter the first number: \"))\n",
    "second = int(input(\"Enter the second number: \"))\n",
    "\n",
    "if first > second:\n",
    "    print(first,\" is greater than \", second)\n",
    "elif first < second:\n",
    "    print(first,\" is less than \", second)\n",
    "else:\n",
    "    print(first,\" is equal to \", second)"
   ]
  },
  {
   "cell_type": "markdown",
   "id": "cae31f8b",
   "metadata": {},
   "source": [
    "4.\tWrite a program that takes a string as an input and displays it in lower case and upper case.\n",
    "    - E.g.\n",
    "        - Enter a string: English\n",
    "        - Uppercase: ENGLISH\n",
    "        - Lowercase: english"
   ]
  },
  {
   "cell_type": "code",
   "execution_count": 24,
   "id": "246a1e87",
   "metadata": {},
   "outputs": [
    {
     "name": "stdout",
     "output_type": "stream",
     "text": [
      "Upercase: SKDLFJ\n",
      "Lowercase: skdlfj\n"
     ]
    }
   ],
   "source": [
    "#write your code here\n",
    "word  =(input(\"Enter a word: \"))\n",
    "print('Upercase:',word.upper())\n",
    "print('Lowercase:', word.lower())"
   ]
  },
  {
   "cell_type": "markdown",
   "id": "1a8bdf19",
   "metadata": {},
   "source": [
    "5. Write a function to changes a string to a new string where the first and the last character have been exchanged.\n",
    "    - E.g.\t     \n",
    "        - ‘abcd’   ⟶   ‘dbca’\n",
    "        - ‘1234’   ⟶   ‘4231’"
   ]
  },
  {
   "cell_type": "code",
   "execution_count": 25,
   "id": "b274e8aa",
   "metadata": {},
   "outputs": [
    {
     "name": "stdout",
     "output_type": "stream",
     "text": [
      "fkdls\n"
     ]
    }
   ],
   "source": [
    "#write your code here\n",
    "string = input(\"Enter a string: \")\n",
    "first_letter = string[0]\n",
    "last_letter = string[-1]\n",
    "new_string = last_letter + string[1:-1] + first_letter\n",
    "print(new_string)"
   ]
  },
  {
   "cell_type": "markdown",
   "id": "20254817",
   "metadata": {},
   "source": [
    "6.\tWrite a function to count and display the occurrences of each word in a given sentence.\n",
    "    - E.g.\n",
    "        - Sentence: 'the quick brown fox jumps over the lazy dog.'\n",
    "        - ‘the’: 2\n",
    "        - ‘quick’: 1\n",
    "        - ‘brown’: 1\n",
    "        - ‘fox’: 1\n",
    "        - ‘jumps’: 1\n",
    "        - ‘over’: 1\n",
    "        - ‘lazy’: 1\n",
    "        - ‘dog’: 1"
   ]
  },
  {
   "cell_type": "code",
   "execution_count": 26,
   "id": "022ff96d",
   "metadata": {},
   "outputs": [
    {
     "name": "stdout",
     "output_type": "stream",
     "text": [
      "{'I': 1, 'love': 2, 'you': 2, 'me': 1}\n"
     ]
    }
   ],
   "source": [
    "#write your code here\n",
    "string = input(\"A sentence: \")\n",
    "words = string.removesuffix(\".\").split(\" \")\n",
    "word_count = {}\n",
    "for word in words:\n",
    "    if word in word_count:\n",
    "        word_count[word] += 1\n",
    "    else:\n",
    "        word_count[word] = 1\n",
    "print(word_count)"
   ]
  },
  {
   "cell_type": "markdown",
   "id": "126a1ef6",
   "metadata": {},
   "source": [
    "7. Write a function which accepts a string and display it in reverse order. \n",
    "    - E.g.\n",
    "        - String: “hello”\n",
    "        - Reverse of “hello”: “olleh”"
   ]
  },
  {
   "cell_type": "code",
   "execution_count": 27,
   "id": "62194930",
   "metadata": {},
   "outputs": [
    {
     "data": {
      "text/plain": [
       "'fdlskf'"
      ]
     },
     "execution_count": 27,
     "metadata": {},
     "output_type": "execute_result"
    }
   ],
   "source": [
    "#write your code here\n",
    "def reverse_string():\n",
    "    string = input(\"Enter a string: \")\n",
    "    return string[::-1]\n",
    "\n",
    "reverse_string()"
   ]
  },
  {
   "cell_type": "markdown",
   "id": "8be1bf46",
   "metadata": {},
   "source": [
    "8.\tWrite a function which takes as an input a list of numbers and find the unique numbers from the list.\n",
    "    - E.g.\n",
    "        - List = [2, 3.5, 5, 2, 3, 5, 8, 8, 5, 2]\n",
    "        - Unique numbers: [2, 3, 3.5, 5, 8]"
   ]
  },
  {
   "cell_type": "code",
   "execution_count": 28,
   "id": "1aca91db",
   "metadata": {},
   "outputs": [
    {
     "name": "stdout",
     "output_type": "stream",
     "text": [
      "[2, 3.5, 5, 3, 8]\n"
     ]
    }
   ],
   "source": [
    "#write your code here\n",
    "list = [2, 3.5, 5, 2, 3, 5, 8, 8, 5, 2]\n",
    "def find_unique(list):\n",
    "    unique_list = []\n",
    "    for i in list:\n",
    "        if i not in unique_list:\n",
    "            unique_list.append(i)\n",
    "    return unique_list\n",
    "\n",
    "unique_list = find_unique(list)\n",
    "print(unique_list)\n"
   ]
  },
  {
   "cell_type": "markdown",
   "id": "db2cf1f2",
   "metadata": {},
   "source": [
    "9.\tWrite a function which accepts a list of integer numbers and returns the list of odd and even numbers.\n",
    "    - E.g.\n",
    "        - Sample numbers: [2, 5, 3, 8, 12]\n",
    "        - Odd numbers: [5, 3]\n",
    "        - Even numbers: [2, 8, 12]"
   ]
  },
  {
   "cell_type": "code",
   "execution_count": 29,
   "id": "697fcd03",
   "metadata": {},
   "outputs": [
    {
     "name": "stdout",
     "output_type": "stream",
     "text": [
      "[1, 3, 5, 7, 9]\n",
      "[2, 4, 6, 8, 10]\n"
     ]
    }
   ],
   "source": [
    "#write your code here\n",
    "list = [1,2,3,4,5,6,7,8,9,10]\n",
    "def find_odd_or_even(list):\n",
    "    odd = []\n",
    "    even = []\n",
    "    for num in list:\n",
    "        if num % 2 == 0:\n",
    "            even.append(num)\n",
    "        else:\n",
    "            odd.append(num)\n",
    "    return odd,even\n",
    "\n",
    "odd, even = find_odd_or_even(list)    \n",
    "print(odd)\n",
    "print(even)\n",
    "    "
   ]
  },
  {
   "cell_type": "markdown",
   "id": "c81b00a5",
   "metadata": {},
   "source": [
    "10. Create a dictionary that stores the prices of items in a store and a dictionary that stores items in a shopping cart. Write a function that calculates the total cost of items in a shopping cart.\n",
    "    - Ex: \n",
    "        - 5 book is 5 $, 1 laptop is 10000 $\n",
    "        - ==> Total: 10005.0 $"
   ]
  },
  {
   "cell_type": "code",
   "execution_count": 30,
   "id": "ee40bd74",
   "metadata": {},
   "outputs": [
    {
     "data": {
      "text/plain": [
       "18.4"
      ]
     },
     "execution_count": 30,
     "metadata": {},
     "output_type": "execute_result"
    }
   ],
   "source": [
    "#write your code here\n",
    "items_price ={\n",
    "    \"apple\": 1.99,\n",
    "    \"banana\": 0.99,\n",
    "    \"orange\": 1.49,\n",
    "    \"grape\": 2.49,\n",
    "    \"watermelon\": 3.49 \n",
    "}\n",
    "\n",
    "shopping_list = {\n",
    "    \"apple\": 2,\n",
    "    \"banana\": 3,\n",
    "    \"orange\": 1,\n",
    "    \"grape\": 4,\n",
    "}\n",
    "\n",
    "def calculate_total_price(items_price, shopping_list):\n",
    "    total = 0\n",
    "    for item in shopping_list:\n",
    "        total += shopping_list[item] * items_price[item]\n",
    "    return total\n",
    "calculate_total_price(items_price,shopping_list)"
   ]
  },
  {
   "cell_type": "code",
   "execution_count": null,
   "id": "91820816",
   "metadata": {},
   "outputs": [],
   "source": []
  }
 ],
 "metadata": {
  "kernelspec": {
   "display_name": "Python 3 (ipykernel)",
   "language": "python",
   "name": "python3"
  },
  "language_info": {
   "codemirror_mode": {
    "name": "ipython",
    "version": 3
   },
   "file_extension": ".py",
   "mimetype": "text/x-python",
   "name": "python",
   "nbconvert_exporter": "python",
   "pygments_lexer": "ipython3",
   "version": "3.10.14"
  }
 },
 "nbformat": 4,
 "nbformat_minor": 5
}
